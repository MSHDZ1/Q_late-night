{
  "nbformat": 4,
  "nbformat_minor": 0,
  "metadata": {
    "colab": {
      "provenance": [],
      "authorship_tag": "ABX9TyNAfzWgh56DiMC8nyu4xsWY",
      "include_colab_link": true
    },
    "kernelspec": {
      "name": "python3",
      "display_name": "Python 3"
    },
    "language_info": {
      "name": "python"
    }
  },
  "cells": [
    {
      "cell_type": "markdown",
      "metadata": {
        "id": "view-in-github",
        "colab_type": "text"
      },
      "source": [
        "<a href=\"https://colab.research.google.com/github/MSHDZ1/Q_late-night/blob/main/VF.2_Experiment_Assigment_3.ipynb\" target=\"_parent\"><img src=\"https://colab.research.google.com/assets/colab-badge.svg\" alt=\"Open In Colab\"/></a>"
      ]
    },
    {
      "cell_type": "code",
      "execution_count": 1,
      "metadata": {
        "colab": {
          "base_uri": "https://localhost:8080/",
          "height": 536
        },
        "id": "Mf8vlDA3RkNQ",
        "outputId": "8f2af7ef-5e8f-4a74-d329-776c585278a7"
      },
      "outputs": [
        {
          "output_type": "stream",
          "name": "stdout",
          "text": [
            "            user_id           test      converted       tot_impr  \\\n",
            "count  5.881010e+05  588101.000000  588101.000000  588101.000000   \n",
            "mean   1.310692e+06       0.960000       0.025239      24.820876   \n",
            "std    2.022260e+05       0.195959       0.156850      43.715181   \n",
            "min    9.000000e+05       0.000000       0.000000       1.000000   \n",
            "25%    1.143190e+06       1.000000       0.000000       4.000000   \n",
            "50%    1.313725e+06       1.000000       0.000000      13.000000   \n",
            "75%    1.484088e+06       1.000000       0.000000      27.000000   \n",
            "max    1.654483e+06       1.000000       1.000000    2065.000000   \n",
            "\n",
            "       mode_impr_day  mode_impr_hour  tot_impr_decile  \n",
            "count  588101.000000   588101.000000    588101.000000  \n",
            "mean        4.025533       14.469061         5.448068  \n",
            "std         2.004019        4.834634         2.862418  \n",
            "min         1.000000        0.000000         1.000000  \n",
            "25%         2.000000       11.000000         3.000000  \n",
            "50%         4.000000       14.000000         5.000000  \n",
            "75%         6.000000       18.000000         8.000000  \n",
            "max         7.000000       23.000000        10.000000  \n"
          ]
        },
        {
          "output_type": "execute_result",
          "data": {
            "text/plain": [
              "   user_id  test  converted  tot_impr  mode_impr_day  mode_impr_hour  \\\n",
              "0  1391842     1          0         2              3              19   \n",
              "1  1215269     1          0         1              4              12   \n",
              "2  1604030     1          0         2              6              11   \n",
              "3  1278452     1          0         1              7              18   \n",
              "4  1363432     1          0         1              6              13   \n",
              "\n",
              "   tot_impr_decile  \n",
              "0                2  \n",
              "1                1  \n",
              "2                2  \n",
              "3                1  \n",
              "4                1  "
            ],
            "text/html": [
              "\n",
              "  <div id=\"df-915fb0b3-64b5-4dbc-bfaa-4fdaba2f0885\" class=\"colab-df-container\">\n",
              "    <div>\n",
              "<style scoped>\n",
              "    .dataframe tbody tr th:only-of-type {\n",
              "        vertical-align: middle;\n",
              "    }\n",
              "\n",
              "    .dataframe tbody tr th {\n",
              "        vertical-align: top;\n",
              "    }\n",
              "\n",
              "    .dataframe thead th {\n",
              "        text-align: right;\n",
              "    }\n",
              "</style>\n",
              "<table border=\"1\" class=\"dataframe\">\n",
              "  <thead>\n",
              "    <tr style=\"text-align: right;\">\n",
              "      <th></th>\n",
              "      <th>user_id</th>\n",
              "      <th>test</th>\n",
              "      <th>converted</th>\n",
              "      <th>tot_impr</th>\n",
              "      <th>mode_impr_day</th>\n",
              "      <th>mode_impr_hour</th>\n",
              "      <th>tot_impr_decile</th>\n",
              "    </tr>\n",
              "  </thead>\n",
              "  <tbody>\n",
              "    <tr>\n",
              "      <th>0</th>\n",
              "      <td>1391842</td>\n",
              "      <td>1</td>\n",
              "      <td>0</td>\n",
              "      <td>2</td>\n",
              "      <td>3</td>\n",
              "      <td>19</td>\n",
              "      <td>2</td>\n",
              "    </tr>\n",
              "    <tr>\n",
              "      <th>1</th>\n",
              "      <td>1215269</td>\n",
              "      <td>1</td>\n",
              "      <td>0</td>\n",
              "      <td>1</td>\n",
              "      <td>4</td>\n",
              "      <td>12</td>\n",
              "      <td>1</td>\n",
              "    </tr>\n",
              "    <tr>\n",
              "      <th>2</th>\n",
              "      <td>1604030</td>\n",
              "      <td>1</td>\n",
              "      <td>0</td>\n",
              "      <td>2</td>\n",
              "      <td>6</td>\n",
              "      <td>11</td>\n",
              "      <td>2</td>\n",
              "    </tr>\n",
              "    <tr>\n",
              "      <th>3</th>\n",
              "      <td>1278452</td>\n",
              "      <td>1</td>\n",
              "      <td>0</td>\n",
              "      <td>1</td>\n",
              "      <td>7</td>\n",
              "      <td>18</td>\n",
              "      <td>1</td>\n",
              "    </tr>\n",
              "    <tr>\n",
              "      <th>4</th>\n",
              "      <td>1363432</td>\n",
              "      <td>1</td>\n",
              "      <td>0</td>\n",
              "      <td>1</td>\n",
              "      <td>6</td>\n",
              "      <td>13</td>\n",
              "      <td>1</td>\n",
              "    </tr>\n",
              "  </tbody>\n",
              "</table>\n",
              "</div>\n",
              "    <div class=\"colab-df-buttons\">\n",
              "\n",
              "  <div class=\"colab-df-container\">\n",
              "    <button class=\"colab-df-convert\" onclick=\"convertToInteractive('df-915fb0b3-64b5-4dbc-bfaa-4fdaba2f0885')\"\n",
              "            title=\"Convert this dataframe to an interactive table.\"\n",
              "            style=\"display:none;\">\n",
              "\n",
              "  <svg xmlns=\"http://www.w3.org/2000/svg\" height=\"24px\" viewBox=\"0 -960 960 960\">\n",
              "    <path d=\"M120-120v-720h720v720H120Zm60-500h600v-160H180v160Zm220 220h160v-160H400v160Zm0 220h160v-160H400v160ZM180-400h160v-160H180v160Zm440 0h160v-160H620v160ZM180-180h160v-160H180v160Zm440 0h160v-160H620v160Z\"/>\n",
              "  </svg>\n",
              "    </button>\n",
              "\n",
              "  <style>\n",
              "    .colab-df-container {\n",
              "      display:flex;\n",
              "      gap: 12px;\n",
              "    }\n",
              "\n",
              "    .colab-df-convert {\n",
              "      background-color: #E8F0FE;\n",
              "      border: none;\n",
              "      border-radius: 50%;\n",
              "      cursor: pointer;\n",
              "      display: none;\n",
              "      fill: #1967D2;\n",
              "      height: 32px;\n",
              "      padding: 0 0 0 0;\n",
              "      width: 32px;\n",
              "    }\n",
              "\n",
              "    .colab-df-convert:hover {\n",
              "      background-color: #E2EBFA;\n",
              "      box-shadow: 0px 1px 2px rgba(60, 64, 67, 0.3), 0px 1px 3px 1px rgba(60, 64, 67, 0.15);\n",
              "      fill: #174EA6;\n",
              "    }\n",
              "\n",
              "    .colab-df-buttons div {\n",
              "      margin-bottom: 4px;\n",
              "    }\n",
              "\n",
              "    [theme=dark] .colab-df-convert {\n",
              "      background-color: #3B4455;\n",
              "      fill: #D2E3FC;\n",
              "    }\n",
              "\n",
              "    [theme=dark] .colab-df-convert:hover {\n",
              "      background-color: #434B5C;\n",
              "      box-shadow: 0px 1px 3px 1px rgba(0, 0, 0, 0.15);\n",
              "      filter: drop-shadow(0px 1px 2px rgba(0, 0, 0, 0.3));\n",
              "      fill: #FFFFFF;\n",
              "    }\n",
              "  </style>\n",
              "\n",
              "    <script>\n",
              "      const buttonEl =\n",
              "        document.querySelector('#df-915fb0b3-64b5-4dbc-bfaa-4fdaba2f0885 button.colab-df-convert');\n",
              "      buttonEl.style.display =\n",
              "        google.colab.kernel.accessAllowed ? 'block' : 'none';\n",
              "\n",
              "      async function convertToInteractive(key) {\n",
              "        const element = document.querySelector('#df-915fb0b3-64b5-4dbc-bfaa-4fdaba2f0885');\n",
              "        const dataTable =\n",
              "          await google.colab.kernel.invokeFunction('convertToInteractive',\n",
              "                                                    [key], {});\n",
              "        if (!dataTable) return;\n",
              "\n",
              "        const docLinkHtml = 'Like what you see? Visit the ' +\n",
              "          '<a target=\"_blank\" href=https://colab.research.google.com/notebooks/data_table.ipynb>data table notebook</a>'\n",
              "          + ' to learn more about interactive tables.';\n",
              "        element.innerHTML = '';\n",
              "        dataTable['output_type'] = 'display_data';\n",
              "        await google.colab.output.renderOutput(dataTable, element);\n",
              "        const docLink = document.createElement('div');\n",
              "        docLink.innerHTML = docLinkHtml;\n",
              "        element.appendChild(docLink);\n",
              "      }\n",
              "    </script>\n",
              "  </div>\n",
              "\n",
              "\n",
              "<div id=\"df-ff0df129-b885-4a89-824c-a3d649a72b31\">\n",
              "  <button class=\"colab-df-quickchart\" onclick=\"quickchart('df-ff0df129-b885-4a89-824c-a3d649a72b31')\"\n",
              "            title=\"Suggest charts\"\n",
              "            style=\"display:none;\">\n",
              "\n",
              "<svg xmlns=\"http://www.w3.org/2000/svg\" height=\"24px\"viewBox=\"0 0 24 24\"\n",
              "     width=\"24px\">\n",
              "    <g>\n",
              "        <path d=\"M19 3H5c-1.1 0-2 .9-2 2v14c0 1.1.9 2 2 2h14c1.1 0 2-.9 2-2V5c0-1.1-.9-2-2-2zM9 17H7v-7h2v7zm4 0h-2V7h2v10zm4 0h-2v-4h2v4z\"/>\n",
              "    </g>\n",
              "</svg>\n",
              "  </button>\n",
              "\n",
              "<style>\n",
              "  .colab-df-quickchart {\n",
              "      --bg-color: #E8F0FE;\n",
              "      --fill-color: #1967D2;\n",
              "      --hover-bg-color: #E2EBFA;\n",
              "      --hover-fill-color: #174EA6;\n",
              "      --disabled-fill-color: #AAA;\n",
              "      --disabled-bg-color: #DDD;\n",
              "  }\n",
              "\n",
              "  [theme=dark] .colab-df-quickchart {\n",
              "      --bg-color: #3B4455;\n",
              "      --fill-color: #D2E3FC;\n",
              "      --hover-bg-color: #434B5C;\n",
              "      --hover-fill-color: #FFFFFF;\n",
              "      --disabled-bg-color: #3B4455;\n",
              "      --disabled-fill-color: #666;\n",
              "  }\n",
              "\n",
              "  .colab-df-quickchart {\n",
              "    background-color: var(--bg-color);\n",
              "    border: none;\n",
              "    border-radius: 50%;\n",
              "    cursor: pointer;\n",
              "    display: none;\n",
              "    fill: var(--fill-color);\n",
              "    height: 32px;\n",
              "    padding: 0;\n",
              "    width: 32px;\n",
              "  }\n",
              "\n",
              "  .colab-df-quickchart:hover {\n",
              "    background-color: var(--hover-bg-color);\n",
              "    box-shadow: 0 1px 2px rgba(60, 64, 67, 0.3), 0 1px 3px 1px rgba(60, 64, 67, 0.15);\n",
              "    fill: var(--button-hover-fill-color);\n",
              "  }\n",
              "\n",
              "  .colab-df-quickchart-complete:disabled,\n",
              "  .colab-df-quickchart-complete:disabled:hover {\n",
              "    background-color: var(--disabled-bg-color);\n",
              "    fill: var(--disabled-fill-color);\n",
              "    box-shadow: none;\n",
              "  }\n",
              "\n",
              "  .colab-df-spinner {\n",
              "    border: 2px solid var(--fill-color);\n",
              "    border-color: transparent;\n",
              "    border-bottom-color: var(--fill-color);\n",
              "    animation:\n",
              "      spin 1s steps(1) infinite;\n",
              "  }\n",
              "\n",
              "  @keyframes spin {\n",
              "    0% {\n",
              "      border-color: transparent;\n",
              "      border-bottom-color: var(--fill-color);\n",
              "      border-left-color: var(--fill-color);\n",
              "    }\n",
              "    20% {\n",
              "      border-color: transparent;\n",
              "      border-left-color: var(--fill-color);\n",
              "      border-top-color: var(--fill-color);\n",
              "    }\n",
              "    30% {\n",
              "      border-color: transparent;\n",
              "      border-left-color: var(--fill-color);\n",
              "      border-top-color: var(--fill-color);\n",
              "      border-right-color: var(--fill-color);\n",
              "    }\n",
              "    40% {\n",
              "      border-color: transparent;\n",
              "      border-right-color: var(--fill-color);\n",
              "      border-top-color: var(--fill-color);\n",
              "    }\n",
              "    60% {\n",
              "      border-color: transparent;\n",
              "      border-right-color: var(--fill-color);\n",
              "    }\n",
              "    80% {\n",
              "      border-color: transparent;\n",
              "      border-right-color: var(--fill-color);\n",
              "      border-bottom-color: var(--fill-color);\n",
              "    }\n",
              "    90% {\n",
              "      border-color: transparent;\n",
              "      border-bottom-color: var(--fill-color);\n",
              "    }\n",
              "  }\n",
              "</style>\n",
              "\n",
              "  <script>\n",
              "    async function quickchart(key) {\n",
              "      const quickchartButtonEl =\n",
              "        document.querySelector('#' + key + ' button');\n",
              "      quickchartButtonEl.disabled = true;  // To prevent multiple clicks.\n",
              "      quickchartButtonEl.classList.add('colab-df-spinner');\n",
              "      try {\n",
              "        const charts = await google.colab.kernel.invokeFunction(\n",
              "            'suggestCharts', [key], {});\n",
              "      } catch (error) {\n",
              "        console.error('Error during call to suggestCharts:', error);\n",
              "      }\n",
              "      quickchartButtonEl.classList.remove('colab-df-spinner');\n",
              "      quickchartButtonEl.classList.add('colab-df-quickchart-complete');\n",
              "    }\n",
              "    (() => {\n",
              "      let quickchartButtonEl =\n",
              "        document.querySelector('#df-ff0df129-b885-4a89-824c-a3d649a72b31 button');\n",
              "      quickchartButtonEl.style.display =\n",
              "        google.colab.kernel.accessAllowed ? 'block' : 'none';\n",
              "    })();\n",
              "  </script>\n",
              "</div>\n",
              "\n",
              "    </div>\n",
              "  </div>\n"
            ],
            "application/vnd.google.colaboratory.intrinsic+json": {
              "type": "dataframe",
              "summary": "{\n  \"name\": \"data\",\n  \"rows\": 5,\n  \"fields\": [\n    {\n      \"column\": \"user_id\",\n      \"properties\": {\n        \"dtype\": \"number\",\n        \"std\": 147995,\n        \"min\": 1215269,\n        \"max\": 1604030,\n        \"num_unique_values\": 5,\n        \"samples\": [\n          1215269,\n          1363432,\n          1604030\n        ],\n        \"semantic_type\": \"\",\n        \"description\": \"\"\n      }\n    },\n    {\n      \"column\": \"test\",\n      \"properties\": {\n        \"dtype\": \"number\",\n        \"std\": 0,\n        \"min\": 1,\n        \"max\": 1,\n        \"num_unique_values\": 1,\n        \"samples\": [\n          1\n        ],\n        \"semantic_type\": \"\",\n        \"description\": \"\"\n      }\n    },\n    {\n      \"column\": \"converted\",\n      \"properties\": {\n        \"dtype\": \"number\",\n        \"std\": 0,\n        \"min\": 0,\n        \"max\": 0,\n        \"num_unique_values\": 1,\n        \"samples\": [\n          0\n        ],\n        \"semantic_type\": \"\",\n        \"description\": \"\"\n      }\n    },\n    {\n      \"column\": \"tot_impr\",\n      \"properties\": {\n        \"dtype\": \"number\",\n        \"std\": 0,\n        \"min\": 1,\n        \"max\": 2,\n        \"num_unique_values\": 2,\n        \"samples\": [\n          1\n        ],\n        \"semantic_type\": \"\",\n        \"description\": \"\"\n      }\n    },\n    {\n      \"column\": \"mode_impr_day\",\n      \"properties\": {\n        \"dtype\": \"number\",\n        \"std\": 1,\n        \"min\": 3,\n        \"max\": 7,\n        \"num_unique_values\": 4,\n        \"samples\": [\n          4\n        ],\n        \"semantic_type\": \"\",\n        \"description\": \"\"\n      }\n    },\n    {\n      \"column\": \"mode_impr_hour\",\n      \"properties\": {\n        \"dtype\": \"number\",\n        \"std\": 3,\n        \"min\": 11,\n        \"max\": 19,\n        \"num_unique_values\": 5,\n        \"samples\": [\n          12\n        ],\n        \"semantic_type\": \"\",\n        \"description\": \"\"\n      }\n    },\n    {\n      \"column\": \"tot_impr_decile\",\n      \"properties\": {\n        \"dtype\": \"number\",\n        \"std\": 0,\n        \"min\": 1,\n        \"max\": 2,\n        \"num_unique_values\": 2,\n        \"samples\": [\n          1\n        ],\n        \"semantic_type\": \"\",\n        \"description\": \"\"\n      }\n    }\n  ]\n}"
            }
          },
          "metadata": {},
          "execution_count": 1
        }
      ],
      "source": [
        "# Setup\n",
        "import numpy as np\n",
        "import pandas as pd\n",
        "import statsmodels.api as sm\n",
        "import statsmodels.formula.api as smf\n",
        "import matplotlib.pyplot as plt\n",
        "\n",
        "data = pd.read_csv('/content/rocketfuel_deciles.csv')\n",
        "print(data.describe())\n",
        "data.head ()"
      ]
    },
    {
      "cell_type": "markdown",
      "source": [
        "Looking at summary statistics:\n",
        "\n",
        "\n",
        "*   Test Variable, the mean shows a 96% that means that this percentage of user was exposed to the ad. This makes sense as the business case explained that a control group of 4% was desired.\n",
        "*   Converted, shows a mean of 2.5%.\n",
        "*   Tot_imp_decile, 10 equal size groups.\n",
        "\n",
        "\n",
        "\n",
        "\n"
      ],
      "metadata": {
        "id": "-U7_EKuOVVlI"
      }
    },
    {
      "cell_type": "markdown",
      "source": [],
      "metadata": {
        "id": "bU5SAnWaeuVT"
      }
    },
    {
      "cell_type": "code",
      "source": [
        "#Check for balance: In a table, compare the shares of individuals by treatment status,\n",
        "#and the means and standard deviations of pre-experiment variables.\n",
        "#Comment on your findings.\n",
        "\n",
        "print(data.mean())\n",
        "\n",
        "balance_table = data [['test', 'converted', 'tot_impr', 'mode_impr_day', 'mode_impr_hour', 'tot_impr_decile']].groupby('test').mean()\n",
        "print(balance_table)"
      ],
      "metadata": {
        "colab": {
          "base_uri": "https://localhost:8080/"
        },
        "id": "t0eAT3PDe1Rq",
        "outputId": "47aa4632-8893-47cc-fbaf-5751a78b7f22"
      },
      "execution_count": 4,
      "outputs": [
        {
          "output_type": "stream",
          "name": "stdout",
          "text": [
            "user_id            1.310692e+06\n",
            "test               9.600001e-01\n",
            "converted          2.523886e-02\n",
            "tot_impr           2.482088e+01\n",
            "mode_impr_day      4.025533e+00\n",
            "mode_impr_hour     1.446906e+01\n",
            "tot_impr_decile    5.448068e+00\n",
            "dtype: float64\n",
            "      converted   tot_impr  mode_impr_day  mode_impr_hour  tot_impr_decile\n",
            "test                                                                      \n",
            "0      0.017854  24.761138       3.952644       14.304923         5.325030\n",
            "1      0.025547  24.823365       4.028570       14.475900         5.453194\n"
          ]
        }
      ]
    },
    {
      "cell_type": "markdown",
      "source": [
        "We can see a slight higher convertion in the treatment group. We will further our analysis to revise if this is statistically significant.\n",
        "\n",
        "From the mean in the pre-experiment variables we can determine that the treatment and control groups are well balanced., there are only minor differnces in mean."
      ],
      "metadata": {
        "id": "fMpKfX6whRXR"
      }
    },
    {
      "cell_type": "code",
      "source": [
        "#Plot outcome: Plot the means and confidence intervals of the main outcome “converted,”\n",
        "##treatment status. In your markdown, file, interpret the result (mean and confidence intervals, noting width).\n",
        "\n",
        "p_means = data.groupby('test')['converted'].agg(\n",
        "    mean = ('mean'),\n",
        "    std = ('std'),\n",
        "    N = ('size')\n",
        ")\n",
        "p_means['se'] = p_means['std']/np.sqrt(p_means['N'])\n",
        "p_means['lb'] = p_means['mean'] - 1.96*p_means['se']\n",
        "p_means['ub'] = p_means['mean'] + 1.96*p_means['se']\n",
        "\n",
        "print(p_means[['mean', 'lb', 'ub']])\n"
      ],
      "metadata": {
        "colab": {
          "base_uri": "https://localhost:8080/"
        },
        "id": "AiBI4JTnoZ_h",
        "outputId": "b003a49e-2f96-4897-8f7f-4d5b9927c726"
      },
      "execution_count": 8,
      "outputs": [
        {
          "output_type": "stream",
          "name": "stdout",
          "text": [
            "          mean        lb        ub\n",
            "test                              \n",
            "0     0.017854  0.016162  0.019546\n",
            "1     0.025547  0.025135  0.025958\n"
          ]
        }
      ]
    },
    {
      "cell_type": "code",
      "source": [
        "#Plot\n",
        "\n",
        "plt.figure(figsize=(10, 8))\n",
        "plt.errorbar(\n",
        "    x=p_means.index,\n",
        "    y=p_means['mean'],\n",
        "    yerr=[p_means['mean'] - p_means['lb'], p_means['ub'] - p_means['mean']],\n",
        "    fmt='o',\n",
        "    capsize=5,\n",
        "    capthick=2,\n",
        "    color='blue',\n",
        "    label='Conversion Rate'\n",
        ")\n",
        "\n",
        "# Add labels and title\n",
        "plt.xticks([0, 1], ['Control', 'Treatment'])\n",
        "plt.xlabel('Treatment Status')\n",
        "plt.ylabel('Mean Conversion Rate')\n",
        "plt.title('Mean Conversion Rate by Treatment Status with 95% Confidence Intervals')\n",
        "plt.legend()"
      ],
      "metadata": {
        "colab": {
          "base_uri": "https://localhost:8080/",
          "height": 755
        },
        "id": "_jTFLpXrsMxi",
        "outputId": "9d1a3d58-4399-4387-93e7-784bd3fc14d9"
      },
      "execution_count": 10,
      "outputs": [
        {
          "output_type": "execute_result",
          "data": {
            "text/plain": [
              "<matplotlib.legend.Legend at 0x79b0f804f700>"
            ]
          },
          "metadata": {},
          "execution_count": 10
        },
        {
          "output_type": "display_data",
          "data": {
            "text/plain": [
              "<Figure size 1000x800 with 1 Axes>"
            ],
            "image/png": "[encoded data removed]"
          },
          "metadata": {}
        }
      ]
    },
    {
      "cell_type": "markdown",
      "source": [
        "The control group has a mean conversion rate of 0.017854 and confidence intervals [0.016162, 0.019546]\n",
        "\n",
        "Then treatment grup has a mean 0.025547 conversion rate and confidence intervals [0.025135  0.025958]\n",
        "\n",
        "The conficence interval between the two groups are not overlapping, this indicates that the conversion rate between the two groups might be statistically significant and not due to randomization. The treatment group shows a higher mean that the control, also it shows narrower confidence intervals. This might be due to the fact that the sample size is quite large for the treatment group, not so for the control group.\n",
        "\n"
      ],
      "metadata": {
        "id": "NsgabTnctwxO"
      }
    },
    {
      "cell_type": "code",
      "source": [
        "#Find ATE: Estimate of the Average Treatment Effect (ATE)\n",
        "#of the ads for treatment relative to control, the associated standard error,\n",
        "#and the 95% confidence interval on the Average Treatment Effects.\n",
        "#You can do this by hand or with regression (but be careful about standard errors).\n",
        "\n",
        "p_ate = p_means['mean']- p_means['mean'][0]\n",
        "p_ate = p_ate.to_frame(name='ate')\n",
        "print(p_ate)\n",
        "\n",
        "p_ate['se'] = np.sqrt( p_means['se']**2 + p_means['se'][0]**2 )\n",
        "p_ate['lb'] = p_ate['ate'] - 1.96*p_ate['se']\n",
        "p_ate['ub'] = p_ate['ate'] + 1.96*p_ate['se']\n",
        "\n",
        "print(p_ate[['se','ate', 'lb', 'ub']])"
      ],
      "metadata": {
        "colab": {
          "base_uri": "https://localhost:8080/"
        },
        "id": "zrnipBb7xeFg",
        "outputId": "4c475800-ff49-4e43-f685-54030ed57837"
      },
      "execution_count": 19,
      "outputs": [
        {
          "output_type": "stream",
          "name": "stdout",
          "text": [
            "           ate\n",
            "test          \n",
            "0     0.000000\n",
            "1     0.007692\n",
            "            se       ate        lb        ub\n",
            "test                                        \n",
            "0     0.001221  0.000000 -0.002393  0.002393\n",
            "1     0.000889  0.007692  0.005951  0.009434\n"
          ]
        }
      ]
    },
    {
      "cell_type": "code",
      "source": [
        "#use regression\n",
        "formula = 'converted ~ C(test)'\n",
        "model = smf.ols(formula, data= data ).fit()\n",
        "model = model.get_robustcov_results(cov_type='HC3')\n",
        "print(model.summary() )"
      ],
      "metadata": {
        "colab": {
          "base_uri": "https://localhost:8080/"
        },
        "id": "mFcBC0il1JWO",
        "outputId": "75b625b9-0ac1-4a7d-892a-9200d94e33c5"
      },
      "execution_count": 17,
      "outputs": [
        {
          "output_type": "stream",
          "name": "stdout",
          "text": [
            "                            OLS Regression Results                            \n",
            "==============================================================================\n",
            "Dep. Variable:              converted   R-squared:                       0.000\n",
            "Model:                            OLS   Adj. R-squared:                  0.000\n",
            "Method:                 Least Squares   F-statistic:                     74.94\n",
            "Date:                Sat, 26 Oct 2024   Prob (F-statistic):           4.86e-18\n",
            "Time:                        21:57:18   Log-Likelihood:             2.5499e+05\n",
            "No. Observations:              588101   AIC:                        -5.100e+05\n",
            "Df Residuals:                  588099   BIC:                        -5.099e+05\n",
            "Df Model:                           1                                         \n",
            "Covariance Type:                  HC3                                         \n",
            "================================================================================\n",
            "                   coef    std err          t      P>|t|      [0.025      0.975]\n",
            "--------------------------------------------------------------------------------\n",
            "Intercept        0.0179      0.001     20.678      0.000       0.016       0.020\n",
            "C(test)[T.1]     0.0077      0.001      8.657      0.000       0.006       0.009\n",
            "==============================================================================\n",
            "Omnibus:                   650946.201   Durbin-Watson:                   1.870\n",
            "Prob(Omnibus):                  0.000   Jarque-Bera (JB):         32995692.936\n",
            "Skew:                           6.053   Prob(JB):                         0.00\n",
            "Kurtosis:                      37.641   Cond. No.                         9.90\n",
            "==============================================================================\n",
            "\n",
            "Notes:\n",
            "[1] Standard Errors are heteroscedasticity robust (HC3)\n"
          ]
        }
      ]
    },
    {
      "cell_type": "code",
      "source": [
        "#Subgroup analysis: Create a summary table showing the treatment effect in each decile.\n",
        "#Your table should indicate the decile,\n",
        "##control mean, HTE, lift, and 95% CI for the HTE.\n",
        "\n",
        "## Alternative way of making our HTE table\n",
        "alt_table = data.groupby(['tot_impr_decile', 'converted'])['test'].agg(\n",
        "    mean = 'mean', sem = 'sem' )\n",
        "\n",
        "## Alt table stacks up the subgroup-specific ATE tables\n",
        "print(alt_table)\n",
        "\n",
        "# We can also unstack them, so tat each subgroup is a row\n",
        "# There are separate columns for each treatment arm mean and SEM\n",
        "alt_table  = alt_table.unstack()\n",
        "print(alt_table)\n",
        "\n",
        "# We can grab a particular treatment arm's variable using integer indexes:\n",
        "# for example, here is the control mean\n",
        "print('\\n\\n Control group mean in each type:')\n",
        "print(alt_table['mean'][0])"
      ],
      "metadata": {
        "colab": {
          "base_uri": "https://localhost:8080/"
        },
        "id": "5xGXYeuZ71lb",
        "outputId": "ea168a3d-9730-4f42-87f1-c767483651ca"
      },
      "execution_count": 29,
      "outputs": [
        {
          "output_type": "stream",
          "name": "stdout",
          "text": [
            "                               mean       sem\n",
            "tot_impr_decile converted                    \n",
            "1               0          0.959216  0.000832\n",
            "                1          0.966292  0.019239\n",
            "2               0          0.952542  0.000813\n",
            "                1          0.960000  0.014856\n",
            "3               0          0.956379  0.000891\n",
            "                1          0.935135  0.018157\n",
            "4               0          0.957523  0.000835\n",
            "                1          0.944000  0.014571\n",
            "5               0          0.964355  0.000740\n",
            "                1          0.965197  0.008839\n",
            "6               0          0.970164  0.000709\n",
            "                1          0.969095  0.008140\n",
            "7               0          0.958789  0.000788\n",
            "                1          0.955847  0.007101\n",
            "8               0          0.961841  0.000875\n",
            "                1          0.966697  0.005386\n",
            "9               0          0.961724  0.000808\n",
            "                1          0.974951  0.002819\n",
            "10              0          0.954866  0.000936\n",
            "                1          0.975234  0.001712\n",
            "                     mean                 sem          \n",
            "converted               0         1         0         1\n",
            "tot_impr_decile                                        \n",
            "1                0.959216  0.966292  0.000832  0.019239\n",
            "2                0.952542  0.960000  0.000813  0.014856\n",
            "3                0.956379  0.935135  0.000891  0.018157\n",
            "4                0.957523  0.944000  0.000835  0.014571\n",
            "5                0.964355  0.965197  0.000740  0.008839\n",
            "6                0.970164  0.969095  0.000709  0.008140\n",
            "7                0.958789  0.955847  0.000788  0.007101\n",
            "8                0.961841  0.966697  0.000875  0.005386\n",
            "9                0.961724  0.974951  0.000808  0.002819\n",
            "10               0.954866  0.975234  0.000936  0.001712\n",
            "\n",
            "\n",
            " Control group mean in each type:\n",
            "tot_impr_decile\n",
            "1     0.959216\n",
            "2     0.952542\n",
            "3     0.956379\n",
            "4     0.957523\n",
            "5     0.964355\n",
            "6     0.970164\n",
            "7     0.958789\n",
            "8     0.961841\n",
            "9     0.961724\n",
            "10    0.954866\n",
            "Name: 0, dtype: float64\n"
          ]
        }
      ]
    },
    {
      "cell_type": "code",
      "source": [
        "# Q4 alternative, continued.\n",
        "# Continuing with alternate approach\n",
        "# So we can make ATE, lift, and CI, but note we do it separate for each treatment arm\n",
        "\n",
        "alt_table['ate1']= alt_table['mean'][1] - alt_table['mean'][0]\n",
        "alt_table['lift1']= alt_table['ate1'] / alt_table['mean'][0]\n",
        "alt_table['se_ate1'] = np.sqrt(alt_table['sem'][1]**2 + alt_table['sem'][0]**2)\n",
        "alt_table['lb1'] = alt_table['ate1'] - 1.96*alt_table['se_ate1']\n",
        "alt_table['ub1'] = alt_table['ate1'] + 1.96*alt_table['se_ate1']\n",
        "\n",
        "# print control mean, ate1, 95%, lift\n",
        "alt_table['cmean'] = alt_table['mean'][0]\n",
        "cols_to_show = ['cmean', 'ate1', 'lb1', 'ub1', 'lift1']\n",
        "print(alt_table[cols_to_show])"
      ],
      "metadata": {
        "colab": {
          "base_uri": "https://localhost:8080/"
        },
        "id": "h85KMzKNBV_k",
        "outputId": "4e5ddf9f-2f8f-4a91-98f0-f985b622c41c"
      },
      "execution_count": 34,
      "outputs": [
        {
          "output_type": "stream",
          "name": "stdout",
          "text": [
            "                    cmean      ate1       lb1       ub1     lift1\n",
            "converted                                                        \n",
            "tot_impr_decile                                                  \n",
            "1                0.959216  0.007076 -0.030667  0.044820  0.007377\n",
            "2                0.952542  0.007458 -0.021703  0.036619  0.007830\n",
            "3                0.956379 -0.021244 -0.056874  0.014385 -0.022213\n",
            "4                0.957523 -0.013523 -0.042129  0.015082 -0.014123\n",
            "5                0.964355  0.000843 -0.016542  0.018227  0.000874\n",
            "6                0.970164 -0.001069 -0.017084  0.014946 -0.001102\n",
            "7                0.958789 -0.002942 -0.016945  0.011061 -0.003068\n",
            "8                0.961841  0.004856 -0.005838  0.015550  0.005049\n",
            "9                0.961724  0.013227  0.007479  0.018975  0.013754\n",
            "10               0.954866  0.020368  0.016543  0.024193  0.021330\n"
          ]
        }
      ]
    },
    {
      "cell_type": "code",
      "source": [
        "# Rename columns for clarity\n",
        "alt_table = alt_table.rename(columns={\n",
        "    'cmean': 'Control Mean',\n",
        "    'ate1': 'HTE',\n",
        "    'lb1': 'CI_Lower',\n",
        "    'ub1': 'CI_Upper',\n",
        "    'lift1': 'Lift'\n",
        "})\n",
        "\n",
        "# Print the renamed table to verify\n",
        "print(alt_table[['Control Mean', 'HTE', 'CI_Lower', 'CI_Upper', 'Lift']])"
      ],
      "metadata": {
        "colab": {
          "base_uri": "https://localhost:8080/"
        },
        "id": "UJUEOzF3EHCP",
        "outputId": "6bf16ec8-e60b-41b8-e163-252147f4801f"
      },
      "execution_count": 35,
      "outputs": [
        {
          "output_type": "stream",
          "name": "stdout",
          "text": [
            "                Control Mean       HTE  CI_Lower  CI_Upper      Lift\n",
            "converted                                                           \n",
            "tot_impr_decile                                                     \n",
            "1                   0.959216  0.007076 -0.030667  0.044820  0.007377\n",
            "2                   0.952542  0.007458 -0.021703  0.036619  0.007830\n",
            "3                   0.956379 -0.021244 -0.056874  0.014385 -0.022213\n",
            "4                   0.957523 -0.013523 -0.042129  0.015082 -0.014123\n",
            "5                   0.964355  0.000843 -0.016542  0.018227  0.000874\n",
            "6                   0.970164 -0.001069 -0.017084  0.014946 -0.001102\n",
            "7                   0.958789 -0.002942 -0.016945  0.011061 -0.003068\n",
            "8                   0.961841  0.004856 -0.005838  0.015550  0.005049\n",
            "9                   0.961724  0.013227  0.007479  0.018975  0.013754\n",
            "10                  0.954866  0.020368  0.016543  0.024193  0.021330\n"
          ]
        }
      ]
    },
    {
      "cell_type": "code",
      "source": [],
      "metadata": {
        "id": "FRtOmSfOgC5x"
      },
      "execution_count": null,
      "outputs": []
    }
  ]
}