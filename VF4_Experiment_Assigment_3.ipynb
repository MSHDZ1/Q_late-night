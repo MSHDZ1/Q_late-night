{
  "nbformat": 4,
  "nbformat_minor": 0,
  "metadata": {
    "colab": {
      "provenance": [],
      "authorship_tag": "ABX9TyMAnoMK0YtXR9XQerry45RG",
      "include_colab_link": true
    },
    "kernelspec": {
      "name": "python3",
      "display_name": "Python 3"
    },
    "language_info": {
      "name": "python"
    }
  },
  "cells": [
    {
      "cell_type": "markdown",
      "metadata": {
        "id": "view-in-github",
        "colab_type": "text"
      },
      "source": [
        "<a href=\"https://colab.research.google.com/github/MSHDZ1/Q_late-night/blob/main/VF4_Experiment_Assigment_3.ipynb\" target=\"_parent\"><img src=\"https://colab.research.google.com/assets/colab-badge.svg\" alt=\"Open In Colab\"/></a>"
      ]
    },
    {
      "cell_type": "code",
      "execution_count": 2,
      "metadata": {
        "colab": {
          "base_uri": "https://localhost:8080/",
          "height": 536
        },
        "id": "Mf8vlDA3RkNQ",
        "outputId": "6f2d6a4f-a545-4f48-932c-dda27cb487b5"
      },
      "outputs": [
        {
          "output_type": "stream",
          "name": "stdout",
          "text": [
            "            user_id           test      converted       tot_impr  \\\n",
            "count  5.881010e+05  588101.000000  588101.000000  588101.000000   \n",
            "mean   1.310692e+06       0.960000       0.025239      24.820876   \n",
            "std    2.022260e+05       0.195959       0.156850      43.715181   \n",
            "min    9.000000e+05       0.000000       0.000000       1.000000   \n",
            "25%    1.143190e+06       1.000000       0.000000       4.000000   \n",
            "50%    1.313725e+06       1.000000       0.000000      13.000000   \n",
            "75%    1.484088e+06       1.000000       0.000000      27.000000   \n",
            "max    1.654483e+06       1.000000       1.000000    2065.000000   \n",
            "\n",
            "       mode_impr_day  mode_impr_hour  tot_impr_decile  \n",
            "count  588101.000000   588101.000000    588101.000000  \n",
            "mean        4.025533       14.469061         5.448068  \n",
            "std         2.004019        4.834634         2.862418  \n",
            "min         1.000000        0.000000         1.000000  \n",
            "25%         2.000000       11.000000         3.000000  \n",
            "50%         4.000000       14.000000         5.000000  \n",
            "75%         6.000000       18.000000         8.000000  \n",
            "max         7.000000       23.000000        10.000000  \n"
          ]
        },
        {
          "output_type": "execute_result",
          "data": {
            "text/plain": [
              "   user_id  test  converted  tot_impr  mode_impr_day  mode_impr_hour  \\\n",
              "0  1391842     1          0         2              3              19   \n",
              "1  1215269     1          0         1              4              12   \n",
              "2  1604030     1          0         2              6              11   \n",
              "3  1278452     1          0         1              7              18   \n",
              "4  1363432     1          0         1              6              13   \n",
              "\n",
              "   tot_impr_decile  \n",
              "0                2  \n",
              "1                1  \n",
              "2                2  \n",
              "3                1  \n",
              "4                1  "
            ],
            "text/html": [
              "\n",
              "  <div id=\"df-d0668c47-37f9-481f-9ab8-09a0ab4b2041\" class=\"colab-df-container\">\n",
              "    <div>\n",
              "<style scoped>\n",
              "    .dataframe tbody tr th:only-of-type {\n",
              "        vertical-align: middle;\n",
              "    }\n",
              "\n",
              "    .dataframe tbody tr th {\n",
              "        vertical-align: top;\n",
              "    }\n",
              "\n",
              "    .dataframe thead th {\n",
              "        text-align: right;\n",
              "    }\n",
              "</style>\n",
              "<table border=\"1\" class=\"dataframe\">\n",
              "  <thead>\n",
              "    <tr style=\"text-align: right;\">\n",
              "      <th></th>\n",
              "      <th>user_id</th>\n",
              "      <th>test</th>\n",
              "      <th>converted</th>\n",
              "      <th>tot_impr</th>\n",
              "      <th>mode_impr_day</th>\n",
              "      <th>mode_impr_hour</th>\n",
              "      <th>tot_impr_decile</th>\n",
              "    </tr>\n",
              "  </thead>\n",
              "  <tbody>\n",
              "    <tr>\n",
              "      <th>0</th>\n",
              "      <td>1391842</td>\n",
              "      <td>1</td>\n",
              "      <td>0</td>\n",
              "      <td>2</td>\n",
              "      <td>3</td>\n",
              "      <td>19</td>\n",
              "      <td>2</td>\n",
              "    </tr>\n",
              "    <tr>\n",
              "      <th>1</th>\n",
              "      <td>1215269</td>\n",
              "      <td>1</td>\n",
              "      <td>0</td>\n",
              "      <td>1</td>\n",
              "      <td>4</td>\n",
              "      <td>12</td>\n",
              "      <td>1</td>\n",
              "    </tr>\n",
              "    <tr>\n",
              "      <th>2</th>\n",
              "      <td>1604030</td>\n",
              "      <td>1</td>\n",
              "      <td>0</td>\n",
              "      <td>2</td>\n",
              "      <td>6</td>\n",
              "      <td>11</td>\n",
              "      <td>2</td>\n",
              "    </tr>\n",
              "    <tr>\n",
              "      <th>3</th>\n",
              "      <td>1278452</td>\n",
              "      <td>1</td>\n",
              "      <td>0</td>\n",
              "      <td>1</td>\n",
              "      <td>7</td>\n",
              "      <td>18</td>\n",
              "      <td>1</td>\n",
              "    </tr>\n",
              "    <tr>\n",
              "      <th>4</th>\n",
              "      <td>1363432</td>\n",
              "      <td>1</td>\n",
              "      <td>0</td>\n",
              "      <td>1</td>\n",
              "      <td>6</td>\n",
              "      <td>13</td>\n",
              "      <td>1</td>\n",
              "    </tr>\n",
              "  </tbody>\n",
              "</table>\n",
              "</div>\n",
              "    <div class=\"colab-df-buttons\">\n",
              "\n",
              "  <div class=\"colab-df-container\">\n",
              "    <button class=\"colab-df-convert\" onclick=\"convertToInteractive('df-d0668c47-37f9-481f-9ab8-09a0ab4b2041')\"\n",
              "            title=\"Convert this dataframe to an interactive table.\"\n",
              "            style=\"display:none;\">\n",
              "\n",
              "  <svg xmlns=\"http://www.w3.org/2000/svg\" height=\"24px\" viewBox=\"0 -960 960 960\">\n",
              "    <path d=\"M120-120v-720h720v720H120Zm60-500h600v-160H180v160Zm220 220h160v-160H400v160Zm0 220h160v-160H400v160ZM180-400h160v-160H180v160Zm440 0h160v-160H620v160ZM180-180h160v-160H180v160Zm440 0h160v-160H620v160Z\"/>\n",
              "  </svg>\n",
              "    </button>\n",
              "\n",
              "  <style>\n",
              "    .colab-df-container {\n",
              "      display:flex;\n",
              "      gap: 12px;\n",
              "    }\n",
              "\n",
              "    .colab-df-convert {\n",
              "      background-color: #E8F0FE;\n",
              "      border: none;\n",
              "      border-radius: 50%;\n",
              "      cursor: pointer;\n",
              "      display: none;\n",
              "      fill: #1967D2;\n",
              "      height: 32px;\n",
              "      padding: 0 0 0 0;\n",
              "      width: 32px;\n",
              "    }\n",
              "\n",
              "    .colab-df-convert:hover {\n",
              "      background-color: #E2EBFA;\n",
              "      box-shadow: 0px 1px 2px rgba(60, 64, 67, 0.3), 0px 1px 3px 1px rgba(60, 64, 67, 0.15);\n",
              "      fill: #174EA6;\n",
              "    }\n",
              "\n",
              "    .colab-df-buttons div {\n",
              "      margin-bottom: 4px;\n",
              "    }\n",
              "\n",
              "    [theme=dark] .colab-df-convert {\n",
              "      background-color: #3B4455;\n",
              "      fill: #D2E3FC;\n",
              "    }\n",
              "\n",
              "    [theme=dark] .colab-df-convert:hover {\n",
              "      background-color: #434B5C;\n",
              "      box-shadow: 0px 1px 3px 1px rgba(0, 0, 0, 0.15);\n",
              "      filter: drop-shadow(0px 1px 2px rgba(0, 0, 0, 0.3));\n",
              "      fill: #FFFFFF;\n",
              "    }\n",
              "  </style>\n",
              "\n",
              "    <script>\n",
              "      const buttonEl =\n",
              "        document.querySelector('#df-d0668c47-37f9-481f-9ab8-09a0ab4b2041 button.colab-df-convert');\n",
              "      buttonEl.style.display =\n",
              "        google.colab.kernel.accessAllowed ? 'block' : 'none';\n",
              "\n",
              "      async function convertToInteractive(key) {\n",
              "        const element = document.querySelector('#df-d0668c47-37f9-481f-9ab8-09a0ab4b2041');\n",
              "        const dataTable =\n",
              "          await google.colab.kernel.invokeFunction('convertToInteractive',\n",
              "                                                    [key], {});\n",
              "        if (!dataTable) return;\n",
              "\n",
              "        const docLinkHtml = 'Like what you see? Visit the ' +\n",
              "          '<a target=\"_blank\" href=https://colab.research.google.com/notebooks/data_table.ipynb>data table notebook</a>'\n",
              "          + ' to learn more about interactive tables.';\n",
              "        element.innerHTML = '';\n",
              "        dataTable['output_type'] = 'display_data';\n",
              "        await google.colab.output.renderOutput(dataTable, element);\n",
              "        const docLink = document.createElement('div');\n",
              "        docLink.innerHTML = docLinkHtml;\n",
              "        element.appendChild(docLink);\n",
              "      }\n",
              "    </script>\n",
              "  </div>\n",
              "\n",
              "\n",
              "<div id=\"df-a2cf0a1d-a671-4ff6-8d7b-68579fa5bf4c\">\n",
              "  <button class=\"colab-df-quickchart\" onclick=\"quickchart('df-a2cf0a1d-a671-4ff6-8d7b-68579fa5bf4c')\"\n",
              "            title=\"Suggest charts\"\n",
              "            style=\"display:none;\">\n",
              "\n",
              "<svg xmlns=\"http://www.w3.org/2000/svg\" height=\"24px\"viewBox=\"0 0 24 24\"\n",
              "     width=\"24px\">\n",
              "    <g>\n",
              "        <path d=\"M19 3H5c-1.1 0-2 .9-2 2v14c0 1.1.9 2 2 2h14c1.1 0 2-.9 2-2V5c0-1.1-.9-2-2-2zM9 17H7v-7h2v7zm4 0h-2V7h2v10zm4 0h-2v-4h2v4z\"/>\n",
              "    </g>\n",
              "</svg>\n",
              "  </button>\n",
              "\n",
              "<style>\n",
              "  .colab-df-quickchart {\n",
              "      --bg-color: #E8F0FE;\n",
              "      --fill-color: #1967D2;\n",
              "      --hover-bg-color: #E2EBFA;\n",
              "      --hover-fill-color: #174EA6;\n",
              "      --disabled-fill-color: #AAA;\n",
              "      --disabled-bg-color: #DDD;\n",
              "  }\n",
              "\n",
              "  [theme=dark] .colab-df-quickchart {\n",
              "      --bg-color: #3B4455;\n",
              "      --fill-color: #D2E3FC;\n",
              "      --hover-bg-color: #434B5C;\n",
              "      --hover-fill-color: #FFFFFF;\n",
              "      --disabled-bg-color: #3B4455;\n",
              "      --disabled-fill-color: #666;\n",
              "  }\n",
              "\n",
              "  .colab-df-quickchart {\n",
              "    background-color: var(--bg-color);\n",
              "    border: none;\n",
              "    border-radius: 50%;\n",
              "    cursor: pointer;\n",
              "    display: none;\n",
              "    fill: var(--fill-color);\n",
              "    height: 32px;\n",
              "    padding: 0;\n",
              "    width: 32px;\n",
              "  }\n",
              "\n",
              "  .colab-df-quickchart:hover {\n",
              "    background-color: var(--hover-bg-color);\n",
              "    box-shadow: 0 1px 2px rgba(60, 64, 67, 0.3), 0 1px 3px 1px rgba(60, 64, 67, 0.15);\n",
              "    fill: var(--button-hover-fill-color);\n",
              "  }\n",
              "\n",
              "  .colab-df-quickchart-complete:disabled,\n",
              "  .colab-df-quickchart-complete:disabled:hover {\n",
              "    background-color: var(--disabled-bg-color);\n",
              "    fill: var(--disabled-fill-color);\n",
              "    box-shadow: none;\n",
              "  }\n",
              "\n",
              "  .colab-df-spinner {\n",
              "    border: 2px solid var(--fill-color);\n",
              "    border-color: transparent;\n",
              "    border-bottom-color: var(--fill-color);\n",
              "    animation:\n",
              "      spin 1s steps(1) infinite;\n",
              "  }\n",
              "\n",
              "  @keyframes spin {\n",
              "    0% {\n",
              "      border-color: transparent;\n",
              "      border-bottom-color: var(--fill-color);\n",
              "      border-left-color: var(--fill-color);\n",
              "    }\n",
              "    20% {\n",
              "      border-color: transparent;\n",
              "      border-left-color: var(--fill-color);\n",
              "      border-top-color: var(--fill-color);\n",
              "    }\n",
              "    30% {\n",
              "      border-color: transparent;\n",
              "      border-left-color: var(--fill-color);\n",
              "      border-top-color: var(--fill-color);\n",
              "      border-right-color: var(--fill-color);\n",
              "    }\n",
              "    40% {\n",
              "      border-color: transparent;\n",
              "      border-right-color: var(--fill-color);\n",
              "      border-top-color: var(--fill-color);\n",
              "    }\n",
              "    60% {\n",
              "      border-color: transparent;\n",
              "      border-right-color: var(--fill-color);\n",
              "    }\n",
              "    80% {\n",
              "      border-color: transparent;\n",
              "      border-right-color: var(--fill-color);\n",
              "      border-bottom-color: var(--fill-color);\n",
              "    }\n",
              "    90% {\n",
              "      border-color: transparent;\n",
              "      border-bottom-color: var(--fill-color);\n",
              "    }\n",
              "  }\n",
              "</style>\n",
              "\n",
              "  <script>\n",
              "    async function quickchart(key) {\n",
              "      const quickchartButtonEl =\n",
              "        document.querySelector('#' + key + ' button');\n",
              "      quickchartButtonEl.disabled = true;  // To prevent multiple clicks.\n",
              "      quickchartButtonEl.classList.add('colab-df-spinner');\n",
              "      try {\n",
              "        const charts = await google.colab.kernel.invokeFunction(\n",
              "            'suggestCharts', [key], {});\n",
              "      } catch (error) {\n",
              "        console.error('Error during call to suggestCharts:', error);\n",
              "      }\n",
              "      quickchartButtonEl.classList.remove('colab-df-spinner');\n",
              "      quickchartButtonEl.classList.add('colab-df-quickchart-complete');\n",
              "    }\n",
              "    (() => {\n",
              "      let quickchartButtonEl =\n",
              "        document.querySelector('#df-a2cf0a1d-a671-4ff6-8d7b-68579fa5bf4c button');\n",
              "      quickchartButtonEl.style.display =\n",
              "        google.colab.kernel.accessAllowed ? 'block' : 'none';\n",
              "    })();\n",
              "  </script>\n",
              "</div>\n",
              "\n",
              "    </div>\n",
              "  </div>\n"
            ],
            "application/vnd.google.colaboratory.intrinsic+json": {
              "type": "dataframe",
              "summary": "{\n  \"name\": \"data\",\n  \"rows\": 5,\n  \"fields\": [\n    {\n      \"column\": \"user_id\",\n      \"properties\": {\n        \"dtype\": \"number\",\n        \"std\": 147995,\n        \"min\": 1215269,\n        \"max\": 1604030,\n        \"num_unique_values\": 5,\n        \"samples\": [\n          1215269,\n          1363432,\n          1604030\n        ],\n        \"semantic_type\": \"\",\n        \"description\": \"\"\n      }\n    },\n    {\n      \"column\": \"test\",\n      \"properties\": {\n        \"dtype\": \"number\",\n        \"std\": 0,\n        \"min\": 1,\n        \"max\": 1,\n        \"num_unique_values\": 1,\n        \"samples\": [\n          1\n        ],\n        \"semantic_type\": \"\",\n        \"description\": \"\"\n      }\n    },\n    {\n      \"column\": \"converted\",\n      \"properties\": {\n        \"dtype\": \"number\",\n        \"std\": 0,\n        \"min\": 0,\n        \"max\": 0,\n        \"num_unique_values\": 1,\n        \"samples\": [\n          0\n        ],\n        \"semantic_type\": \"\",\n        \"description\": \"\"\n      }\n    },\n    {\n      \"column\": \"tot_impr\",\n      \"properties\": {\n        \"dtype\": \"number\",\n        \"std\": 0,\n        \"min\": 1,\n        \"max\": 2,\n        \"num_unique_values\": 2,\n        \"samples\": [\n          1\n        ],\n        \"semantic_type\": \"\",\n        \"description\": \"\"\n      }\n    },\n    {\n      \"column\": \"mode_impr_day\",\n      \"properties\": {\n        \"dtype\": \"number\",\n        \"std\": 1,\n        \"min\": 3,\n        \"max\": 7,\n        \"num_unique_values\": 4,\n        \"samples\": [\n          4\n        ],\n        \"semantic_type\": \"\",\n        \"description\": \"\"\n      }\n    },\n    {\n      \"column\": \"mode_impr_hour\",\n      \"properties\": {\n        \"dtype\": \"number\",\n        \"std\": 3,\n        \"min\": 11,\n        \"max\": 19,\n        \"num_unique_values\": 5,\n        \"samples\": [\n          12\n        ],\n        \"semantic_type\": \"\",\n        \"description\": \"\"\n      }\n    },\n    {\n      \"column\": \"tot_impr_decile\",\n      \"properties\": {\n        \"dtype\": \"number\",\n        \"std\": 0,\n        \"min\": 1,\n        \"max\": 2,\n        \"num_unique_values\": 2,\n        \"samples\": [\n          1\n        ],\n        \"semantic_type\": \"\",\n        \"description\": \"\"\n      }\n    }\n  ]\n}"
            }
          },
          "metadata": {},
          "execution_count": 2
        }
      ],
      "source": [
        "# Setup\n",
        "import numpy as np\n",
        "import pandas as pd\n",
        "import statsmodels.api as sm\n",
        "import statsmodels.formula.api as smf\n",
        "import matplotlib.pyplot as plt\n",
        "\n",
        "data = pd.read_csv('/content/rocketfuel_deciles.csv')\n",
        "print(data.describe())\n",
        "data.head ()"
      ]
    },
    {
      "cell_type": "markdown",
      "source": [
        "Looking at summary statistics:\n",
        "\n",
        "\n",
        "*   Test Variable, the mean shows a 96% that means that this percentage of user was exposed to the ad. This makes sense as the business case explained that a control group of 4% was desired.\n",
        "*   Converted, shows a mean of 2.5%.\n",
        "*   Tot_imp_decile, 10 equal size groups.\n",
        "\n",
        "\n",
        "\n",
        "\n"
      ],
      "metadata": {
        "id": "-U7_EKuOVVlI"
      }
    },
    {
      "cell_type": "markdown",
      "source": [],
      "metadata": {
        "id": "bU5SAnWaeuVT"
      }
    },
    {
      "cell_type": "code",
      "source": [
        "print(data.isnull().sum())"
      ],
      "metadata": {
        "colab": {
          "base_uri": "https://localhost:8080/"
        },
        "id": "nPtWtqTRhBjT",
        "outputId": "7aff6c72-e715-46d8-bf58-ab2f8e39c0d3"
      },
      "execution_count": 3,
      "outputs": [
        {
          "output_type": "stream",
          "name": "stdout",
          "text": [
            "user_id            0\n",
            "test               0\n",
            "converted          0\n",
            "tot_impr           0\n",
            "mode_impr_day      0\n",
            "mode_impr_hour     0\n",
            "tot_impr_decile    0\n",
            "dtype: int64\n"
          ]
        }
      ]
    },
    {
      "cell_type": "code",
      "source": [
        "#Check for balance: In a table, compare the shares of individuals by treatment status,\n",
        "#and the means and standard deviations of pre-experiment variables.\n",
        "#Comment on your findings.\n",
        "\n",
        "print(data.mean())\n",
        "\n",
        "balance_table = data [['test', 'converted', 'tot_impr', 'mode_impr_day', 'mode_impr_hour', 'tot_impr_decile']].groupby('test').agg(['mean', 'std'])\n",
        "print(balance_table)"
      ],
      "metadata": {
        "colab": {
          "base_uri": "https://localhost:8080/"
        },
        "id": "t0eAT3PDe1Rq",
        "outputId": "a28069e5-ab1b-48de-905d-fea4727527d2"
      },
      "execution_count": 4,
      "outputs": [
        {
          "output_type": "stream",
          "name": "stdout",
          "text": [
            "user_id            1.310692e+06\n",
            "test               9.600001e-01\n",
            "converted          2.523886e-02\n",
            "tot_impr           2.482088e+01\n",
            "mode_impr_day      4.025533e+00\n",
            "mode_impr_hour     1.446906e+01\n",
            "tot_impr_decile    5.448068e+00\n",
            "dtype: float64\n",
            "     converted             tot_impr            mode_impr_day            \\\n",
            "          mean       std       mean        std          mean       std   \n",
            "test                                                                     \n",
            "0     0.017854  0.132424  24.761138  42.860720      3.952644  1.948943   \n",
            "1     0.025547  0.157778  24.823365  43.750456      4.028570  2.006226   \n",
            "\n",
            "     mode_impr_hour           tot_impr_decile            \n",
            "               mean       std            mean       std  \n",
            "test                                                     \n",
            "0         14.304923  4.656239        5.325030  2.922811  \n",
            "1         14.475900  4.841808        5.453194  2.859762  \n"
          ]
        }
      ]
    },
    {
      "cell_type": "markdown",
      "source": [
        "We can see a slight higher convertion in the treatment group. We will further our analysis to revise if this is statistically significant.\n",
        "\n",
        "From the mean in the pre-experiment variables we can determine that the treatment and control groups are well balanced., there are only minor differnces in mean."
      ],
      "metadata": {
        "id": "fMpKfX6whRXR"
      }
    },
    {
      "cell_type": "code",
      "source": [
        "treatment_shares = data['test'].value_counts(normalize=True)\n",
        "print(\"Shares of Individuals by Treatment Status:\")\n",
        "print(treatment_shares)\n"
      ],
      "metadata": {
        "colab": {
          "base_uri": "https://localhost:8080/"
        },
        "id": "x0sFIBMZAAL3",
        "outputId": "3f970c45-9761-4879-9a2b-098b1715ac72"
      },
      "execution_count": 5,
      "outputs": [
        {
          "output_type": "stream",
          "name": "stdout",
          "text": [
            "Shares of Individuals by Treatment Status:\n",
            "test\n",
            "1    0.96\n",
            "0    0.04\n",
            "Name: proportion, dtype: float64\n"
          ]
        }
      ]
    },
    {
      "cell_type": "code",
      "source": [
        "#Plot outcome: Plot the means and confidence intervals of the main outcome “converted,”\n",
        "##treatment status. In your markdown, file, interpret the result (mean and confidence intervals, noting width).\n",
        "\n",
        "p_means = data.groupby('test')['converted'].agg(\n",
        "    mean = ('mean'),\n",
        "    std = ('std'),\n",
        "    N = ('size')\n",
        ")\n",
        "p_means['se'] = p_means['std']/np.sqrt(p_means['N'])\n",
        "p_means['lb'] = p_means['mean'] - 1.96*p_means['se']\n",
        "p_means['ub'] = p_means['mean'] + 1.96*p_means['se']\n",
        "\n",
        "\n",
        "print(p_means[['mean', 'lb', 'ub', 'std']])\n"
      ],
      "metadata": {
        "colab": {
          "base_uri": "https://localhost:8080/"
        },
        "id": "AiBI4JTnoZ_h",
        "outputId": "7ba34ffa-8b95-434b-88ba-efdd440789e4"
      },
      "execution_count": 6,
      "outputs": [
        {
          "output_type": "stream",
          "name": "stdout",
          "text": [
            "          mean        lb        ub       std\n",
            "test                                        \n",
            "0     0.017854  0.016162  0.019546  0.132424\n",
            "1     0.025547  0.025135  0.025958  0.157778\n"
          ]
        }
      ]
    },
    {
      "cell_type": "code",
      "source": [
        "#Plot\n",
        "\n",
        "plt.figure(figsize=(10, 8))\n",
        "plt.errorbar(\n",
        "    x=p_means.index,\n",
        "    y=p_means['mean'],\n",
        "    yerr=[p_means['mean'] - p_means['lb'], p_means['ub'] - p_means['mean']],\n",
        "    fmt='o',\n",
        "    capsize=5,\n",
        "    capthick=2,\n",
        "    color='blue',\n",
        "    label='Conversion Rate'\n",
        ")\n",
        "\n",
        "# Add labels and title\n",
        "plt.xticks([0, 1], ['Control', 'Treatment'])\n",
        "plt.xlabel('Treatment Status')\n",
        "plt.ylabel('Mean Conversion Rate')\n",
        "plt.title('Mean Conversion Rate by Treatment Status with 95% Confidence Intervals')\n",
        "plt.legend()"
      ],
      "metadata": {
        "colab": {
          "base_uri": "https://localhost:8080/",
          "height": 735
        },
        "id": "_jTFLpXrsMxi",
        "outputId": "705e4a75-7ec9-4c1c-85ce-08c6bdf9a4d6"
      },
      "execution_count": 7,
      "outputs": [
        {
          "output_type": "execute_result",
          "data": {
            "text/plain": [
              "<matplotlib.legend.Legend at 0x7d8eab02d7b0>"
            ]
          },
          "metadata": {},
          "execution_count": 7
        },
        {
          "output_type": "display_data",
          "data": {
            "text/plain": [
              "<Figure size 1000x800 with 1 Axes>"
            ],
            "image/png": "[encoded data removed]"
          },
          "metadata": {}
        }
      ]
    },
    {
      "cell_type": "markdown",
      "source": [
        "The control group has a mean conversion rate of 0.017854 and confidence intervals [0.016162, 0.019546]\n",
        "\n",
        "Then treatment grup has a mean 0.025547 conversion rate and confidence intervals [0.025135  0.025958]\n",
        "\n",
        "The conficence interval between the two groups are not overlapping, this indicates that the conversion rate between the two groups might be statistically significant and not due to randomization. The treatment group shows a higher mean that the control, also it shows narrower confidence intervals. This might be due to the fact that the sample size is quite large for the treatment group, not so for the control group.\n",
        "\n"
      ],
      "metadata": {
        "id": "NsgabTnctwxO"
      }
    },
    {
      "cell_type": "code",
      "source": [
        "#Find ATE: Estimate of the Average Treatment Effect (ATE)\n",
        "#of the ads for treatment relative to control, the associated standard error,\n",
        "#and the 95% confidence interval on the Average Treatment Effects.\n",
        "#You can do this by hand or with regression (but be careful about standard errors).\n",
        "\n",
        "p_ate = p_means['mean']- p_means['mean'][0]\n",
        "p_ate = p_ate.to_frame(name='ate')\n",
        "print(p_ate)\n",
        "\n",
        "p_ate['se'] = np.sqrt( p_means['se']**2 + p_means['se'][0]**2 )\n",
        "p_ate['lb'] = p_ate['ate'] - 1.96*p_ate['se']\n",
        "p_ate['ub'] = p_ate['ate'] + 1.96*p_ate['se']\n",
        "\n",
        "print(p_ate[['se','ate', 'lb', 'ub']])"
      ],
      "metadata": {
        "colab": {
          "base_uri": "https://localhost:8080/"
        },
        "id": "zrnipBb7xeFg",
        "outputId": "35235105-4159-4d74-97c1-2cf0c1317947"
      },
      "execution_count": 8,
      "outputs": [
        {
          "output_type": "stream",
          "name": "stdout",
          "text": [
            "           ate\n",
            "test          \n",
            "0     0.000000\n",
            "1     0.007692\n",
            "            se       ate        lb        ub\n",
            "test                                        \n",
            "0     0.001221  0.000000 -0.002393  0.002393\n",
            "1     0.000889  0.007692  0.005951  0.009434\n"
          ]
        }
      ]
    },
    {
      "cell_type": "code",
      "source": [
        "#use regression\n",
        "formula = 'converted ~ C(test)'\n",
        "model = smf.ols(formula, data= data ).fit()\n",
        "model = model.get_robustcov_results(cov_type='HC3')\n",
        "print(model.summary() )"
      ],
      "metadata": {
        "colab": {
          "base_uri": "https://localhost:8080/"
        },
        "id": "mFcBC0il1JWO",
        "outputId": "8ca96173-b15e-4da9-bf8c-ffe29739b4d8"
      },
      "execution_count": 9,
      "outputs": [
        {
          "output_type": "stream",
          "name": "stdout",
          "text": [
            "                            OLS Regression Results                            \n",
            "==============================================================================\n",
            "Dep. Variable:              converted   R-squared:                       0.000\n",
            "Model:                            OLS   Adj. R-squared:                  0.000\n",
            "Method:                 Least Squares   F-statistic:                     74.94\n",
            "Date:                Tue, 29 Oct 2024   Prob (F-statistic):           4.86e-18\n",
            "Time:                        02:54:38   Log-Likelihood:             2.5499e+05\n",
            "No. Observations:              588101   AIC:                        -5.100e+05\n",
            "Df Residuals:                  588099   BIC:                        -5.099e+05\n",
            "Df Model:                           1                                         \n",
            "Covariance Type:                  HC3                                         \n",
            "================================================================================\n",
            "                   coef    std err          t      P>|t|      [0.025      0.975]\n",
            "--------------------------------------------------------------------------------\n",
            "Intercept        0.0179      0.001     20.678      0.000       0.016       0.020\n",
            "C(test)[T.1]     0.0077      0.001      8.657      0.000       0.006       0.009\n",
            "==============================================================================\n",
            "Omnibus:                   650946.201   Durbin-Watson:                   1.870\n",
            "Prob(Omnibus):                  0.000   Jarque-Bera (JB):         32995692.936\n",
            "Skew:                           6.053   Prob(JB):                         0.00\n",
            "Kurtosis:                      37.641   Cond. No.                         9.90\n",
            "==============================================================================\n",
            "\n",
            "Notes:\n",
            "[1] Standard Errors are heteroscedasticity robust (HC3)\n"
          ]
        }
      ]
    },
    {
      "cell_type": "code",
      "source": [
        "## Alternative way of making our HTE table\n",
        "\n",
        "#Grouping by: 'tot_impr_decile' & 'test', calculate mean and standard error (sem) for 'converted'\n",
        "alt_table = data.groupby(['tot_impr_decile', 'test'])['converted'].agg(\n",
        "    mean='mean', sem='sem')\n",
        "\n",
        "#Unstack the table to separate control and treatment columns\n",
        "alt_table = alt_table.unstack()\n",
        "\n",
        "#3Calculate HTE (treatment mean - control mean), Lift, and Confidence Intervals\n",
        "alt_table['HTE'] = alt_table['mean'][1] - alt_table['mean'][0]\n",
        "alt_table['Lift1'] = (alt_table['HTE'] / alt_table['mean'][0])\n",
        "alt_table['se_HTE'] = np.sqrt(alt_table['sem'][1]**2 + alt_table['sem'][0]**2)\n",
        "alt_table['lb1'] = alt_table['HTE'] - 1.96 * alt_table['se_HTE']\n",
        "alt_table['ub1'] = alt_table['HTE'] + 1.96 * alt_table['se_HTE']\n",
        "\n",
        "# Renaming columns for clarity\n",
        "alt_table = alt_table.rename(columns={\n",
        "    'mean': 'Control Mean',\n",
        "    'HTE': 'HTE',\n",
        "    'lb1': 'CI_Lower',\n",
        "    'ub1': 'CI_Upper',\n",
        "    'Lift1': 'Lift'\n",
        "})\n",
        "\n",
        "print(alt_table[['Control Mean', 'HTE', 'CI_Lower', 'CI_Upper', 'Lift', 'se_HTE']])\n"
      ],
      "metadata": {
        "colab": {
          "base_uri": "https://localhost:8080/"
        },
        "id": "DUb233l3Q1X3",
        "outputId": "4836afde-1a4d-4330-f5b2-d8eb90371140"
      },
      "execution_count": 10,
      "outputs": [
        {
          "output_type": "stream",
          "name": "stdout",
          "text": [
            "                Control Mean                 HTE  CI_Lower  CI_Upper  \\\n",
            "test                       0         1                                 \n",
            "tot_impr_decile                                                        \n",
            "1                   0.001300  0.001584  0.000284 -0.001224  0.001792   \n",
            "2                   0.002155  0.002575  0.000421 -0.001221  0.002062   \n",
            "3                   0.005208  0.003431 -0.001777 -0.004761  0.001206   \n",
            "4                   0.005622  0.004210 -0.001412 -0.004398  0.001574   \n",
            "5                   0.006667  0.006833  0.000166 -0.003260  0.003593   \n",
            "6                   0.008074  0.007788 -0.000286 -0.004561  0.003990   \n",
            "7                   0.013899  0.012946 -0.000953 -0.005490  0.003583   \n",
            "8                   0.019807  0.022742  0.002934 -0.003528  0.009396   \n",
            "9                   0.034467  0.052401  0.017933  0.010149  0.025717   \n",
            "10                  0.084124  0.145999  0.061875  0.050438  0.073312   \n",
            "\n",
            "                     Lift    se_HTE  \n",
            "test                                 \n",
            "tot_impr_decile                      \n",
            "1                0.218510  0.000769  \n",
            "2                0.195236  0.000837  \n",
            "3               -0.341279  0.001522  \n",
            "4               -0.251141  0.001523  \n",
            "5                0.024933  0.001748  \n",
            "6               -0.035387  0.002181  \n",
            "7               -0.068597  0.002315  \n",
            "8                0.148149  0.003297  \n",
            "9                0.520298  0.003971  \n",
            "10               0.735525  0.005835  \n"
          ]
        }
      ]
    },
    {
      "cell_type": "code",
      "source": [
        "import matplotlib.pyplot as plt\n",
        "import numpy as np\n",
        "\n",
        "# Extract control and treatment means and confidence intervals separately\n",
        "control_means = alt_table['Control Mean'][0]\n",
        "treatment_means = alt_table['Control Mean'][1]\n",
        "control_ci_lower = control_means - 1.96 * alt_table['sem'][0]\n",
        "control_ci_upper = control_means + 1.96 * alt_table['sem'][0]\n",
        "treatment_ci_lower = treatment_means - 1.96 * alt_table['sem'][1]\n",
        "treatment_ci_upper = treatment_means + 1.96 * alt_table['sem'][1]\n",
        "\n",
        "# Plotting\n",
        "plt.figure(figsize=(10, 6))\n",
        "\n",
        "# Plot Control Group Mean and CI as points with error bars\n",
        "plt.errorbar(control_means.index, control_means.values,\n",
        "             yerr=[control_means.values - control_ci_lower.values,\n",
        "                   control_ci_upper.values - control_means.values],\n",
        "             fmt='o', color='blue', label='Control Group', capsize=5)\n",
        "\n",
        "# Plot Treatment Group Mean and CI as points with error bars\n",
        "plt.errorbar(treatment_means.index, treatment_means.values,\n",
        "             yerr=[treatment_means.values - treatment_ci_lower.values,\n",
        "                   treatment_ci_upper.values - treatment_means.values],\n",
        "             fmt='o', color='red', label='Treatment Group', capsize=5)\n",
        "\n",
        "# Labels and Title\n",
        "plt.xlabel('Total Impressions Decile')\n",
        "plt.ylabel('Mean Conversion Rate')\n",
        "plt.title('Mean Conversion Rate with 95% Confidence Intervals by Treatment Status and Decile')\n",
        "plt.legend()\n",
        "plt.grid(True)\n",
        "plt.show()\n"
      ],
      "metadata": {
        "colab": {
          "base_uri": "https://localhost:8080/",
          "height": 564
        },
        "id": "zYCJ94Szh7BK",
        "outputId": "41e91aab-2df5-432b-b148-cf62db4e3b1d"
      },
      "execution_count": 12,
      "outputs": [
        {
          "output_type": "display_data",
          "data": {
            "text/plain": [
              "<Figure size 1000x600 with 1 Axes>"
            ],
            "image/png": "[encoded data removed]"
          },
          "metadata": {}
        }
      ]
    },
    {
      "cell_type": "code",
      "source": [
        "import matplotlib.pyplot as plt\n",
        "\n",
        "# Assuming 'alt_table' contains HTE and CI values for each decile\n",
        "# Extract deciles, HTE values, and confidence intervals\n",
        "deciles = alt_table.index\n",
        "hte_values = alt_table['HTE']\n",
        "ci_lower = alt_table['CI_Lower']\n",
        "ci_upper = alt_table['CI_Upper']\n",
        "\n",
        "# Plotting HTE with 95% confidence intervals\n",
        "plt.figure(figsize=(10, 6))\n",
        "plt.errorbar(deciles, hte_values, yerr=[hte_values - ci_lower, ci_upper - hte_values],\n",
        "             fmt='o', color='purple', capsize=5, label='HTE with 95% CI')\n",
        "\n",
        "# Labels and Title\n",
        "plt.xlabel('Total Impressions Decile')\n",
        "plt.ylabel('Heterogeneous Treatment Effect (HTE)')\n",
        "plt.title('Treatment Effects with 95% Confidence Intervals by Decile')\n",
        "plt.legend()\n",
        "plt.show()\n"
      ],
      "metadata": {
        "colab": {
          "base_uri": "https://localhost:8080/",
          "height": 564
        },
        "id": "VAjT06mFR-jn",
        "outputId": "5c547b04-966b-4ac0-e3f2-1849b7bef484"
      },
      "execution_count": 16,
      "outputs": [
        {
          "output_type": "display_data",
          "data": {
            "text/plain": [
              "<Figure size 1000x600 with 1 Axes>"
            ],
            "image/png": "[encoded data removed]"
          },
          "metadata": {}
        }
      ]
    },
    {
      "cell_type": "code",
      "source": [
        "#Case Information\n",
        "markup_per_sale = 40\n",
        "CPM = 9\n",
        "\n",
        "ate_on_conversions = alt_table['HTE'].mean()\n",
        "\n",
        "average_impressions_treatment = data[data['test'] == 1]['tot_impr'].mean()\n",
        "ad_spending_per_person = (CPM / 1000) * average_impressions_treatment\n",
        "\n",
        "# Return on advertising spending\n",
        "return_on_ad_spend = (ate_on_conversions * markup_per_sale) / ad_spending_per_person\n",
        "\n",
        "print(\"Return on Advertising Spending:\", round(return_on_ad_spend, 4))\n"
      ],
      "metadata": {
        "colab": {
          "base_uri": "https://localhost:8080/"
        },
        "id": "YEumdnyAajJc",
        "outputId": "a5e9116e-852d-45ec-f58e-0ace32c8a977"
      },
      "execution_count": 23,
      "outputs": [
        {
          "output_type": "stream",
          "name": "stdout",
          "text": [
            "Return on Advertising Spending: 1.4178\n"
          ]
        }
      ]
    },
    {
      "cell_type": "code",
      "source": [
        "#Case Information\n",
        "markup_per_sale = 40\n",
        "CPM_COST = 9 / 1000\n",
        "\n",
        "roas_per_decile = []\n",
        "\n",
        "# Loop from 1 to 10 decile\n",
        "for decile in range(1, 11):\n",
        "    # Filter data for the current decile\n",
        "    subdata = data[data['tot_impr_decile'] == decile]\n",
        "\n",
        "    ate_on_conversions = subdata[subdata['test'] == 1]['converted'].mean() - subdata[subdata['test'] == 0]['converted'].mean()\n",
        "\n",
        "    average_impressions_decile = subdata['tot_impr'].mean()\n",
        "\n",
        "    ad_spend_per_person_decile = CPM_COST * average_impressions_decile\n",
        "\n",
        "    roas_decile = (ate_on_conversions * markup_per_sale) / ad_spend_per_person_decile if ad_spend_per_person_decile > 0 else 0\n",
        "\n",
        "    roas_per_decile.append((decile, roas_decile, ad_spend_per_person_decile))\n",
        "\n",
        "#Create a new dataframe 'roas'\n",
        "roas_df = pd.DataFrame(roas_per_decile, columns=['Decile', 'ROAS', 'Ad Spend per Person'])\n",
        "\n",
        "# Identify positive ROAS deciles\n",
        "positive_roas_df = roas_df[roas_df['ROAS'] > 0]\n",
        "\n",
        "print(roas_df)"
      ],
      "metadata": {
        "colab": {
          "base_uri": "https://localhost:8080/"
        },
        "id": "hz6zuVkig0IY",
        "outputId": "b777adb4-4728-438a-e0c0-5d8c947e0e48"
      },
      "execution_count": 33,
      "outputs": [
        {
          "output_type": "stream",
          "name": "stdout",
          "text": [
            "   Decile      ROAS  Ad Spend per Person\n",
            "0       1  1.262335             0.009000\n",
            "1       2  0.773006             0.021766\n",
            "2       3 -1.734076             0.041002\n",
            "3       4 -0.912956             0.061867\n",
            "4       5  0.066902             0.099383\n",
            "5       6 -0.081680             0.139918\n",
            "6       7 -0.203239             0.187651\n",
            "7       8  0.456436             0.257160\n",
            "8       9  1.837139             0.390461\n",
            "9      10  2.321381             1.066177\n"
          ]
        }
      ]
    },
    {
      "cell_type": "code",
      "source": [
        "# Calculate the return when targeting only deciles with positive ROAS\n",
        "\n",
        "total_positive_roas = positive_roas_df['ROAS'].sum()\n",
        "total_positive_ad_spend = positive_roas_df['Ad Spend per Person'].sum()\n",
        "\n",
        "targeted_return = total_positive_roas / total_positive_ad_spend if total_positive_ad_spend > 0 else 0\n",
        "\n",
        "print(\"Return on Advertising Spending if Targeting Only Positive-ROAS Deciles:\", round(targeted_return, 4))\n"
      ],
      "metadata": {
        "colab": {
          "base_uri": "https://localhost:8080/"
        },
        "id": "LffCqGHYi748",
        "outputId": "b8e1e031-180e-44c7-de12-3d694e22fd5e"
      },
      "execution_count": 34,
      "outputs": [
        {
          "output_type": "stream",
          "name": "stdout",
          "text": [
            "Return on Advertising Spending if Targeting Only Positive-ROAS Deciles: 3.6428\n"
          ]
        }
      ]
    }
  ]
}